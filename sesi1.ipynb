{
  "nbformat": 4,
  "nbformat_minor": 0,
  "metadata": {
    "colab": {
      "provenance": [],
      "toc_visible": true,
      "authorship_tag": "ABX9TyNk6PimpXx2TIzkNBo7tl1S",
      "include_colab_link": true
    },
    "kernelspec": {
      "name": "python3",
      "display_name": "Python 3"
    },
    "language_info": {
      "name": "python"
    }
  },
  "cells": [
    {
      "cell_type": "markdown",
      "metadata": {
        "id": "view-in-github",
        "colab_type": "text"
      },
      "source": [
        "<a href=\"https://colab.research.google.com/github/farhantok/PBO_1/blob/main/sesi1.ipynb\" target=\"_parent\"><img src=\"https://colab.research.google.com/assets/colab-badge.svg\" alt=\"Open In Colab\"/></a>"
      ]
    },
    {
      "cell_type": "code",
      "execution_count": 1,
      "metadata": {
        "colab": {
          "base_uri": "https://localhost:8080/"
        },
        "id": "yXQXVLb_MK6-",
        "outputId": "fe96d211-3345-4922-e695-b2ac25a8289b"
      },
      "outputs": [
        {
          "output_type": "stream",
          "name": "stdout",
          "text": [
            "Hendri Ahmadian\n",
            "Department of Information Technology\n",
            "UIN Ar-Raniry\n",
            "Jalan Syech Abdurrauf Kopelma Darussalam\n",
            "Banda Aceh 23111\n",
            "Indonesia\n"
          ]
        }
      ],
      "source": [
        "##\n",
        "# Menampilkan alamat lengkap seseorang\n",
        "#\n",
        "print(\"Hendri Ahmadian\")\n",
        "print(\"Department of Information Technology\")\n",
        "print(\"UIN Ar-Raniry\")\n",
        "print(\"Jalan Syech Abdurrauf Kopelma Darussalam\")\n",
        "print(\"Banda Aceh 23111\")\n",
        "print(\"Indonesia\")\n",
        ""
      ]
    },
    {
      "cell_type": "code",
      "source": [
        "##\n",
        "# Menghitung luas kamar\n",
        "#\n",
        "\n",
        "# Membaca angka yang dimasukkan oleh user\n",
        "panjang = float(input(\"Masukkan ukuran panjang dalam satuan meter \"))\n",
        "lebar = float(input(\"Masukkan ukuran lebar dalam satuan meter \"))\n",
        "\n",
        "# Proses perhitungan luas\n",
        "luas = panjang * lebar\n",
        "\n",
        "# Tampilkan hasil\n",
        "print(\"Luas dari kamar ini adalah\", luas, \"meter kuadrat\")"
      ],
      "metadata": {
        "colab": {
          "base_uri": "https://localhost:8080/"
        },
        "id": "RRudhpBDMYT6",
        "outputId": "3d9cc18c-bb25-41c8-93e8-d163124fd676"
      },
      "execution_count": 2,
      "outputs": [
        {
          "output_type": "stream",
          "name": "stdout",
          "text": [
            "Masukkan ukuran panjang dalam satuan meter 2\n",
            "Masukkan ukuran lebar dalam satuan meter 3\n",
            "Luas dari kamar ini adalah 6.0 meter kuadrat\n"
          ]
        }
      ]
    },
    {
      "cell_type": "code",
      "source": [
        "##\n",
        "# Menghitung jumlah dari bilangan positif pertama\n",
        "#\n",
        "\n",
        "# Membaca angka yang dimasukkan oleh user\n",
        "n = int(input(\"Masukkan bilangan bulat positif:\"))\n",
        "\n",
        "# Proses Menghitung jumlah\n",
        "sm = n * (n+1) / 2\n",
        "\n",
        "# Tampilkan hasil\n",
        "print(\"Jumlah pertama dari \", n, \"bilangan positif adalah\", sm)"
      ],
      "metadata": {
        "colab": {
          "base_uri": "https://localhost:8080/"
        },
        "id": "Zq9zvrFPMhJ6",
        "outputId": "fd03b11d-9b39-4714-ec2b-2f1500bc187d"
      },
      "execution_count": 3,
      "outputs": [
        {
          "output_type": "stream",
          "name": "stdout",
          "text": [
            "Masukkan bilangan bulat positif:10\n",
            "Jumlah pertama dari  10 bilangan positif adalah 55.0\n"
          ]
        }
      ]
    },
    {
      "cell_type": "code",
      "source": [
        "##\n",
        "# Pengenalan operator matematika pada Python dan modul math\n",
        "#\n",
        "\n",
        "from math import log10\n",
        "\n",
        "# Membaca input dari user\n",
        "x = int (input(\"Masukkan bilangan dari x:\"))\n",
        "y = int (input(\"Masukkan bilangan dari y:\"))\n",
        "\n",
        "# Menghitung dan menampilkan operator matematika\n",
        "print(x, \"+\", y, \"adalah\", x + y)\n",
        "print(x, \"-\", y, \"adalah\", x - y)\n",
        "print(x, \"*\", y, \"adalah\", x * y)\n",
        "print(x, \"/\", y, \"adalah\", x / y)\n",
        "print(x, \"%\", y, \"adalah\", x % y)\n",
        "\n",
        "# Menghitung logaritma dan pangkat\n",
        "print(\"Logaritma basis 10 dari\", x, \"adalah\", log10(x))\n",
        "print(x, \"^\", y, \"adalah\", x**y)\n"
      ],
      "metadata": {
        "colab": {
          "base_uri": "https://localhost:8080/"
        },
        "id": "iGmw8CrdMmkP",
        "outputId": "eb2a98f1-9bf8-496f-ad4a-aef0cdcccd36"
      },
      "execution_count": 4,
      "outputs": [
        {
          "output_type": "stream",
          "name": "stdout",
          "text": [
            "Masukkan bilangan dari x:4\n",
            "Masukkan bilangan dari y:3\n",
            "4 + 3 adalah 7\n",
            "4 - 3 adalah 1\n",
            "4 * 3 adalah 12\n",
            "4 / 3 adalah 1.3333333333333333\n",
            "4 % 3 adalah 1\n",
            "Logaritma basis 10 dari 4 adalah 0.6020599913279624\n",
            "4 ^ 3 adalah 64\n"
          ]
        }
      ]
    }
  ]
}