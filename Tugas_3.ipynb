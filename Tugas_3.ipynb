{
  "nbformat": 4,
  "nbformat_minor": 0,
  "metadata": {
    "colab": {
      "provenance": [],
      "authorship_tag": "ABX9TyMSp6J2794JrBN+82zs13IR",
      "include_colab_link": true
    },
    "kernelspec": {
      "name": "python3",
      "display_name": "Python 3"
    },
    "language_info": {
      "name": "python"
    }
  },
  "cells": [
    {
      "cell_type": "markdown",
      "metadata": {
        "id": "view-in-github",
        "colab_type": "text"
      },
      "source": [
        "<a href=\"https://colab.research.google.com/github/farhantok/PBO_1/blob/main/Tugas_3.ipynb\" target=\"_parent\"><img src=\"https://colab.research.google.com/assets/colab-badge.svg\" alt=\"Open In Colab\"/></a>"
      ]
    },
    {
      "cell_type": "code",
      "execution_count": 17,
      "metadata": {
        "colab": {
          "base_uri": "https://localhost:8080/"
        },
        "id": "m2voCspHyONb",
        "outputId": "4e681f79-f81c-4f45-88fb-30a7bef85a05"
      },
      "outputs": [
        {
          "output_type": "stream",
          "name": "stdout",
          "text": [
            "Budi details;\n",
            "rambut:  ikal\n",
            "warna rambut;  hitam\n",
            "Michael details;\n",
            "rambut;  lurus\n",
            "warna rambut;  pirang\n"
          ]
        }
      ],
      "source": [
        "class Person:\n",
        "    def __init__(self, rambut, warna):\n",
        "      self.rambut = rambut\n",
        "      self.warna = warna\n",
        "\n",
        "Budi = Person(\"ikal\", \"hitam\")\n",
        "Michael = Person(\"lurus\", \"pirang\")\n",
        "\n",
        "print('Budi details;')\n",
        "print('rambut: ', Budi.rambut)\n",
        "print('warna rambut; ', Budi.warna)\n",
        "\n",
        "print('Michael details;')\n",
        "print('rambut; ', Michael.rambut)\n",
        "print('warna rambut; ', Michael.warna)"
      ]
    }
  ]
}