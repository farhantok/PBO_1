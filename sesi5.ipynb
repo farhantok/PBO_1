{
  "nbformat": 4,
  "nbformat_minor": 0,
  "metadata": {
    "colab": {
      "provenance": [],
      "authorship_tag": "ABX9TyPOjapcjdHceQszikwgqyn7",
      "include_colab_link": true
    },
    "kernelspec": {
      "name": "python3",
      "display_name": "Python 3"
    },
    "language_info": {
      "name": "python"
    }
  },
  "cells": [
    {
      "cell_type": "markdown",
      "metadata": {
        "id": "view-in-github",
        "colab_type": "text"
      },
      "source": [
        "<a href=\"https://colab.research.google.com/github/farhantok/PBO_1/blob/main/sesi5.ipynb\" target=\"_parent\"><img src=\"https://colab.research.google.com/assets/colab-badge.svg\" alt=\"Open In Colab\"/></a>"
      ]
    },
    {
      "cell_type": "code",
      "execution_count": 1,
      "metadata": {
        "colab": {
          "base_uri": "https://localhost:8080/"
        },
        "id": "TuSc41WsUSGD",
        "outputId": "46d08c35-3a2e-4102-edd9-0106fbf8c029"
      },
      "outputs": [
        {
          "output_type": "stream",
          "name": "stdout",
          "text": [
            "list1[0]:  a\n",
            "list2[1:3]:  ['bahasa aceh', 2019]\n",
            "list3[1:5]:  [2, 3, 4, 5, 6]\n"
          ]
        }
      ],
      "source": [
        "# Pembuatan list pada bahasa pemrograman python\n",
        "list1 = [\"a\", \"b\", \"c\", \"d\"]\n",
        "list2 = ['bahasa arab', 'bahasa aceh', 2019, 2020]\n",
        "list3 = [1, 2, 3, 4, 5, 6, 7 ]\n",
        "\n",
        "\n",
        "# Mengakses Nilai list dalam Python\n",
        "print (\"list1[0]: \", list1[0])\n",
        "print (\"list2[1:3]: \", list2[1:3])\n",
        "print (\"list3[1:5]: \", list3[1:6])\n",
        ""
      ]
    },
    {
      "cell_type": "code",
      "source": [
        "# Pembuatan list dan mengakses nilai list pada indeks 2\n",
        "list = ['bahasa arab', 'bahasa aceh', 2019, 2020]\n",
        "print (\"Nilai ada pada index 2 adalah: \", list[2])\n",
        "\n",
        "# Proses Update nilai list pada indeks 2\n",
        "list[2] = 2018\n",
        "print (\"Nilai baru ada pada index 2 adalah: \", list[2])\n",
        ""
      ],
      "metadata": {
        "colab": {
          "base_uri": "https://localhost:8080/"
        },
        "id": "nBfx8kU4Ucwm",
        "outputId": "0f7ac7ef-3500-4805-d281-f0ddec42e5b6"
      },
      "execution_count": 3,
      "outputs": [
        {
          "output_type": "stream",
          "name": "stdout",
          "text": [
            "Nilai ada pada index 2 adalah:  2019\n",
            "Nilai baru ada pada index 2 adalah:  2018\n"
          ]
        }
      ]
    },
    {
      "cell_type": "code",
      "source": [
        "# Pembuatan list\n",
        "list = ['bahasa arab', 'bahasa aceh', 2019, 2020]\n",
        "print (\"Daftar list sebelum dihapus:\", list)\n",
        "\n",
        "# Proses menghapus nilai List pada indeks 1\n",
        "del list[1]\n",
        "print (\"Setelah dihapus nilai pada index 1 : \", list)\n",
        ""
      ],
      "metadata": {
        "colab": {
          "base_uri": "https://localhost:8080/"
        },
        "id": "WuVHKjxkUfU-",
        "outputId": "14ac630f-bf7c-4fc8-f605-8f9dbb4f1305"
      },
      "execution_count": 4,
      "outputs": [
        {
          "output_type": "stream",
          "name": "stdout",
          "text": [
            "Daftar list sebelum dihapus: ['bahasa arab', 'bahasa aceh', 2019, 2020]\n",
            "Setelah dihapus nilai pada index 1 :  ['bahasa arab', 2019, 2020]\n"
          ]
        }
      ]
    }
  ]
}